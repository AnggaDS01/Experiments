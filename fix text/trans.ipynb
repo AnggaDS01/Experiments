{
 "cells": [
  {
   "cell_type": "code",
   "execution_count": 13,
   "metadata": {},
   "outputs": [],
   "source": [
    "from deep_translator import GoogleTranslator\n",
    "import chardet\n",
    "\n",
    "with open(\"subtitle.txt\", \"rb\") as f:\n",
    "  rawdata = f.read()\n",
    "  result = chardet.detect(rawdata)\n",
    "  encoding = result[\"encoding\"]\n",
    "\n",
    "with open('subtitle.txt', 'r+', encoding=encoding) as f:\n",
    "    content = f.read()\n",
    "    content = content.replace('\\n', ' ')\n",
    "    f.seek(0)\n",
    "    translated = GoogleTranslator(source='auto', target='id').translate(content)\n",
    "    f.write(content)\n",
    "    f.truncate()    \n",
    "    f.close()\n",
    "\n",
    "with open('translated.txt', 'w') as f:\n",
    "  f.write(f'{translated} \\n\\npanjang kalimat: {len(translated)} karakter')\n",
    "  f.close()\n"
   ]
  }
 ],
 "metadata": {
  "kernelspec": {
   "display_name": "Python 3",
   "language": "python",
   "name": "python3"
  },
  "language_info": {
   "codemirror_mode": {
    "name": "ipython",
    "version": 3
   },
   "file_extension": ".py",
   "mimetype": "text/x-python",
   "name": "python",
   "nbconvert_exporter": "python",
   "pygments_lexer": "ipython3",
   "version": "3.9.8"
  },
  "orig_nbformat": 4
 },
 "nbformat": 4,
 "nbformat_minor": 2
}
